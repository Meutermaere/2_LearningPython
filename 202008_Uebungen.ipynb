{
 "cells": [
  {
   "cell_type": "markdown",
   "metadata": {},
   "source": [
    "### Übung 4"
   ]
  },
  {
   "cell_type": "code",
   "execution_count": 12,
   "metadata": {},
   "outputs": [
    {
     "name": "stdout",
     "output_type": "stream",
     "text": [
      "Für 70 Autos fehlt heute ein Fahrer.\n",
      "In jedem Auto sitzen im Schnitt 3 Passagiere.\n"
     ]
    }
   ],
   "source": [
    "cars = 100\n",
    "seats = 4\n",
    "drivers = 30\n",
    "passengers = 90\n",
    "empty_cars = cars - drivers\n",
    "\n",
    "print(\"Für\", empty_cars, \"Autos fehlt heute ein Fahrer.\")\n",
    "print(\"In jedem Auto sitzen im Schnitt\", int(passengers/(cars - empty_cars)), \"Passagiere.\")"
   ]
  },
  {
   "cell_type": "markdown",
   "metadata": {},
   "source": [
    "### Übung 5"
   ]
  },
  {
   "cell_type": "code",
   "execution_count": 16,
   "metadata": {},
   "outputs": [
    {
     "name": "stdout",
     "output_type": "stream",
     "text": [
      "Kennst du eigentlich Hubi?\n"
     ]
    }
   ],
   "source": [
    "my_name = \"Hubi\"\n",
    "my_age = 44 # not a lie\n",
    "my_height = 186 # in cm\n",
    "my_weight = 74 # in kg\n",
    "my_eyes = \"braun\"\n",
    "my_teeth = \"weiss\"\n",
    "my_hair = \"braun\"\n",
    "\n",
    "print(f\"Kennst du eigentlich {my_name}?\")"
   ]
  },
  {
   "cell_type": "code",
   "execution_count": 18,
   "metadata": {},
   "outputs": [
    {
     "name": "stdout",
     "output_type": "stream",
     "text": [
      "Kennst du eigentlich Marius?\n",
      "Kennst du eigentlich Eva?\n",
      "Kennst du eigentlich Dirk?\n",
      "Kennst du eigentlich Sarah?\n"
     ]
    }
   ],
   "source": [
    "names = [\"Marius\", \"Eva\", \"Dirk\", \"Sarah\"]\n",
    "for name in names:\n",
    "         print(f\"Kennst du eigentlich {name}?\")\n",
    "         "
   ]
  },
  {
   "cell_type": "markdown",
   "metadata": {},
   "source": [
    "### Übung 6: Strings formatieren"
   ]
  },
  {
   "cell_type": "code",
   "execution_count": 22,
   "metadata": {},
   "outputs": [
    {
     "name": "stdout",
     "output_type": "stream",
     "text": [
      "There are 10 types of people.\n",
      "Those who use binary and those who don't.\n",
      "I said: There are 10 types of people.\n",
      "I also said: Those who use binary and those who don't.\n",
      "Isn't that joke so funny? False\n"
     ]
    }
   ],
   "source": [
    "types_of_people = 10\n",
    "x = f\"There are {types_of_people} types of people.\"\n",
    "\n",
    "# das f vor einem string bedeutet, dass python, den string  formatieren (also komplettieren muss) mit den Variablen in den {}-Klammern\n",
    "\n",
    "binary = \"binary\"\n",
    "do_not = \"don't\"\n",
    "y = f\"Those who use {binary} and those who {do_not}.\"\n",
    "\n",
    "print(x)\n",
    "print(y)\n",
    "\n",
    "print(f\"I said: {x}\")\n",
    "print(f\"I also said: {y}\")\n",
    "      \n",
    "hilarious = False\n",
    "joke_evaluation = \"Isn't that joke so funny? {}\"\n",
    "      \n",
    "print(joke_evaluation.format(hilarious))"
   ]
  },
  {
   "cell_type": "markdown",
   "metadata": {},
   "source": [
    "### Übung 8: Die .format-Funktion"
   ]
  },
  {
   "cell_type": "code",
   "execution_count": 30,
   "metadata": {},
   "outputs": [
    {
     "name": "stdout",
     "output_type": "stream",
     "text": [
      "Ich kenne eine Geschichte über einen Mann, einen Frosch und ein Messer, die alle drei einen Schrank verschluckt hatten. Und noch was.\n"
     ]
    }
   ],
   "source": [
    "# die .format-Funktion füllt die {}-Platzhalter eines Strings auf.\n",
    "\n",
    "lueckentext = \"Ich kenne eine Geschichte über {}, {} und {}, die alle drei {} verschluckt hatten. Und {}.\"\n",
    "print(lueckentext.format(\"einen Mann\", \"einen Frosch\", \"ein Messer\", \"einen Schrank\", \"noch was\"))"
   ]
  },
  {
   "cell_type": "code",
   "execution_count": 33,
   "metadata": {},
   "outputs": [
    {
     "name": "stdout",
     "output_type": "stream",
     "text": [
      "Ich kenne eine Geschichte über einen Mann, einen Frosch und einen Lappen, die alle drei einen Schrank verschluckt hatten.\n"
     ]
    }
   ],
   "source": [
    "# hier dasselbe mit Variablen. Geht auch.\n",
    "\n",
    "protagonist1 = \"einen Mann\"\n",
    "protagonist2 = \"einen Frosch\"\n",
    "protagonist3 = \"einen Lappen\"\n",
    "objekt1 = \"einen Schrank\"\n",
    "\n",
    "lueckentext = \"Ich kenne eine Geschichte über {}, {} und {}, die alle drei {} verschluckt hatten.\"\n",
    "print(lueckentext.format(protagonist1, protagonist2, protagonist3, objekt1))\n"
   ]
  },
  {
   "cell_type": "markdown",
   "metadata": {},
   "source": [
    "### Übung 9: Umbrüche und mehrere Zeilen bei Print"
   ]
  },
  {
   "cell_type": "code",
   "execution_count": 37,
   "metadata": {},
   "outputs": [
    {
     "name": "stdout",
     "output_type": "stream",
     "text": [
      "In diesem Formular habe ich meinen Namen einzugeben:\n",
      "\n",
      "Huber, Marius\n",
      "\n",
      "Und mein Alter:\n",
      "\n",
      "44\n"
     ]
    }
   ],
   "source": [
    "# mit \\n mache ich Umbrüche in einen String. (Das Zeichen macht man mit alt-shift-/) \n",
    "\n",
    "print(\"In diesem Formular habe ich meinen Namen einzugeben:\\n\\nHuber, Marius\\n\\nUnd mein Alter:\\n\\n44\")"
   ]
  },
  {
   "cell_type": "code",
   "execution_count": 40,
   "metadata": {},
   "outputs": [
    {
     "name": "stdout",
     "output_type": "stream",
     "text": [
      "\n",
      "Dies ist ein kleines Gedicht,\n",
      "für das ich mich schämen sollte,\n",
      "auch wenn ich es anders wollte –\n",
      "denn grandios ist es nicht.\n"
     ]
    }
   ],
   "source": [
    "# zwischen dreifach-Anführungszeichen kann ich mehrere Zeilen mit Umbrüchen schreiben:\n",
    "\n",
    "print(\"\"\"\n",
    "Dies ist ein kleines Gedicht,\n",
    "für das ich mich schämen sollte,\n",
    "auch wenn ich es anders wollte –\n",
    "denn grandios ist es nicht.\"\"\")"
   ]
  },
  {
   "cell_type": "markdown",
   "metadata": {},
   "source": [
    "### Übung 10: der \\-Befehl"
   ]
  },
  {
   "cell_type": "code",
   "execution_count": 42,
   "metadata": {},
   "outputs": [
    {
     "name": "stdout",
     "output_type": "stream",
     "text": [
      "Ich sagte ihm: \"Vergiss es!\"\n",
      "\thub mit Einzug\n"
     ]
    }
   ],
   "source": [
    "# dient vor allem, um Sonderzeichen zu schreiben, die Code sonst verwirren würden, etwa ein \"\n",
    "print(\"Ich sagte ihm: \\\"Vergiss es!\\\"\")\n",
    "\n",
    "# \\t = tab\n",
    "print(\"\\thub mit Einzug\")"
   ]
  },
  {
   "cell_type": "markdown",
   "metadata": {},
   "source": [
    "### Übungen 11 und 12: Inputs"
   ]
  },
  {
   "cell_type": "code",
   "execution_count": null,
   "metadata": {},
   "outputs": [],
   "source": [
    "# Der end-Befehl bedeutet, dass es keinen Zeilenumbruch geben soll und die Eingabe auf der selben Zeile erscheint!\n",
    "print(\"Bitte deine Grösse in Meter eingeben: \", end = \"\")\n",
    "size = input()\n",
    "\n",
    "print(\"Bitte dein Gewicht in Kilogramm eingeben: \", end = \"\")\n",
    "weight = input()\n",
    "\n",
    "bmi = float(weight)/(float(size)*float(size))\n",
    "\n",
    "# Hier arbeite ich wieder mit der format-Funktion, um die (gerundete) Variable einzufüllen.\n",
    "print(\"Dein BMI beträgt {}\".format(round(bmi,2)))"
   ]
  },
  {
   "cell_type": "markdown",
   "metadata": {},
   "source": [
    "Das geht auch einfacher:"
   ]
  },
  {
   "cell_type": "code",
   "execution_count": 78,
   "metadata": {},
   "outputs": [
    {
     "name": "stdout",
     "output_type": "stream",
     "text": [
      "Wie heisst du? Eva\n",
      "Interessant, dein Name beginnt also mit dem Buchstabe E.\n"
     ]
    }
   ],
   "source": [
    "name = input(\"Wie heisst du? \")\n",
    "\n",
    "print(\"Interessant, dein Name beginnt also mit dem Buchstabe {}.\".format(name[0]))"
   ]
  },
  {
   "cell_type": "markdown",
   "metadata": {},
   "source": [
    "### Übung 15"
   ]
  },
  {
   "cell_type": "code",
   "execution_count": 92,
   "metadata": {},
   "outputs": [
    {
     "data": {
      "text/plain": [
       "['/Users/bigdata/.virtualenvs/erstesVE/lib/python3.7/site-packages/ipykernel_launcher.py',\n",
       " '-f',\n",
       " '/Users/bigdata/Library/Jupyter/runtime/kernel-a6a55740-9061-4ef9-bcdd-90a91eaae5e8.json']"
      ]
     },
     "execution_count": 92,
     "metadata": {},
     "output_type": "execute_result"
    }
   ],
   "source": [
    "from sys import argv\n",
    "argv"
   ]
  },
  {
   "cell_type": "code",
   "execution_count": 93,
   "metadata": {},
   "outputs": [
    {
     "name": "stdout",
     "output_type": "stream",
     "text": [
      "The script is called: /Users/bigdata/.virtualenvs/erstesVE/lib/python3.7/site-packages/ipykernel_launcher.py\n",
      "Your first variable is: -f\n",
      "Your second variable is: /Users/bigdata/Library/Jupyter/runtime/kernel-a6a55740-9061-4ef9-bcdd-90a91eaae5e8.json\n"
     ]
    }
   ],
   "source": [
    "from sys import argv\n",
    "#read the WYSS section for how to run this \n",
    "script, first, second = argv\n",
    "\n",
    "print(\"The script is called:\", script)\n",
    "print(\"Your first variable is:\", first)\n",
    "print(\"Your second variable is:\", second)"
   ]
  },
  {
   "cell_type": "code",
   "execution_count": null,
   "metadata": {},
   "outputs": [],
   "source": []
  },
  {
   "cell_type": "code",
   "execution_count": null,
   "metadata": {},
   "outputs": [],
   "source": []
  }
 ],
 "metadata": {
  "kernelspec": {
   "display_name": "Python 3",
   "language": "python",
   "name": "python3"
  },
  "language_info": {
   "codemirror_mode": {
    "name": "ipython",
    "version": 3
   },
   "file_extension": ".py",
   "mimetype": "text/x-python",
   "name": "python",
   "nbconvert_exporter": "python",
   "pygments_lexer": "ipython3",
   "version": "3.7.6"
  }
 },
 "nbformat": 4,
 "nbformat_minor": 2
}
